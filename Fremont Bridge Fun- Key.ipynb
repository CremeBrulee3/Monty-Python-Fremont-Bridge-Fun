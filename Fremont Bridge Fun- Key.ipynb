{
 "cells": [
  {
   "cell_type": "code",
   "execution_count": 1,
   "metadata": {
    "collapsed": false
   },
   "outputs": [
    {
     "name": "stderr",
     "output_type": "stream",
     "text": [
      "/Users/melissah/anaconda/lib/python2.7/site-packages/matplotlib/font_manager.py:273: UserWarning: Matplotlib is building the font cache using fc-list. This may take a moment.\n",
      "  warnings.warn('Matplotlib is building the font cache using fc-list. This may take a moment.')\n"
     ]
    }
   ],
   "source": [
    "import pandas as pd\n",
    "from datetime import time\n",
    "import matplotlib.pyplot as plt\n",
    "import seaborn; seaborn.set()  # plot styling\n",
    "import numpy as np\n",
    "%matplotlib inline"
   ]
  },
  {
   "cell_type": "code",
   "execution_count": null,
   "metadata": {
    "collapsed": true
   },
   "outputs": [],
   "source": [
    "# !curl -o FremontBridge.csv https://data.seattle.gov/api/views/65db-xm6k/rows.csv?accessType=DOWNLOAD"
   ]
  },
  {
   "cell_type": "markdown",
   "metadata": {},
   "source": [
    "Read in the csv from the appropriate directory as a pandas dataframe."
   ]
  },
  {
   "cell_type": "code",
   "execution_count": 11,
   "metadata": {
    "collapsed": false
   },
   "outputs": [],
   "source": [
    "data = pd.read_csv('FremontBridge.csv', index_col='Date', parse_dates=True)"
   ]
  },
  {
   "cell_type": "markdown",
   "metadata": {},
   "source": [
    "Print out the first five lines of the dataset to see what kinds of information the file has. Make a list of all the headers."
   ]
  },
  {
   "cell_type": "code",
   "execution_count": 8,
   "metadata": {
    "collapsed": false
   },
   "outputs": [
    {
     "data": {
      "text/html": [
       "<div style=\"max-height:1000px;max-width:1500px;overflow:auto;\">\n",
       "<table border=\"1\" class=\"dataframe\">\n",
       "  <thead>\n",
       "    <tr style=\"text-align: right;\">\n",
       "      <th></th>\n",
       "      <th>Fremont Bridge West Sidewalk</th>\n",
       "      <th>Fremont Bridge East Sidewalk</th>\n",
       "    </tr>\n",
       "    <tr>\n",
       "      <th>Date</th>\n",
       "      <th></th>\n",
       "      <th></th>\n",
       "    </tr>\n",
       "  </thead>\n",
       "  <tbody>\n",
       "    <tr>\n",
       "      <th>2012-10-03 00:00:00</th>\n",
       "      <td> 4</td>\n",
       "      <td> 9</td>\n",
       "    </tr>\n",
       "    <tr>\n",
       "      <th>2012-10-03 01:00:00</th>\n",
       "      <td> 4</td>\n",
       "      <td> 6</td>\n",
       "    </tr>\n",
       "    <tr>\n",
       "      <th>2012-10-03 02:00:00</th>\n",
       "      <td> 1</td>\n",
       "      <td> 1</td>\n",
       "    </tr>\n",
       "    <tr>\n",
       "      <th>2012-10-03 03:00:00</th>\n",
       "      <td> 2</td>\n",
       "      <td> 3</td>\n",
       "    </tr>\n",
       "    <tr>\n",
       "      <th>2012-10-03 04:00:00</th>\n",
       "      <td> 6</td>\n",
       "      <td> 1</td>\n",
       "    </tr>\n",
       "  </tbody>\n",
       "</table>\n",
       "<p>5 rows × 2 columns</p>\n",
       "</div>"
      ],
      "text/plain": [
       "                     Fremont Bridge West Sidewalk  \\\n",
       "Date                                                \n",
       "2012-10-03 00:00:00                             4   \n",
       "2012-10-03 01:00:00                             4   \n",
       "2012-10-03 02:00:00                             1   \n",
       "2012-10-03 03:00:00                             2   \n",
       "2012-10-03 04:00:00                             6   \n",
       "\n",
       "                     Fremont Bridge East Sidewalk  \n",
       "Date                                               \n",
       "2012-10-03 00:00:00                             9  \n",
       "2012-10-03 01:00:00                             6  \n",
       "2012-10-03 02:00:00                             1  \n",
       "2012-10-03 03:00:00                             3  \n",
       "2012-10-03 04:00:00                             1  \n",
       "\n",
       "[5 rows x 2 columns]"
      ]
     },
     "execution_count": 8,
     "metadata": {},
     "output_type": "execute_result"
    }
   ],
   "source": [
    "data.head()"
   ]
  },
  {
   "cell_type": "markdown",
   "metadata": {},
   "source": [
    "Rename the columns to simpler (one word) names, replace any empty data with the value 0 and add a column for the total number of riders."
   ]
  },
  {
   "cell_type": "code",
   "execution_count": 12,
   "metadata": {
    "collapsed": false
   },
   "outputs": [
    {
     "name": "stderr",
     "output_type": "stream",
     "text": [
      "/Users/melissah/anaconda/lib/python2.7/site-packages/pandas/computation/ops.py:62: DeprecationWarning: object() takes no parameters\n",
      "  return supr_new(klass, name, env, side=side, encoding=encoding)\n",
      "/Users/melissah/anaconda/lib/python2.7/site-packages/pandas/computation/ops.py:62: DeprecationWarning: object() takes no parameters\n",
      "  return supr_new(klass, name, env, side=side, encoding=encoding)\n"
     ]
    }
   ],
   "source": [
    "data.columns = ['West', 'East']\n",
    "data.fillna(0, inplace=True)\n",
    "data['Total'] = data.eval('East + West')"
   ]
  },
  {
   "cell_type": "markdown",
   "metadata": {},
   "source": [
    "What time period does this dataset cover? (ie. what is the start date and end date of the dataset?)"
   ]
  },
  {
   "cell_type": "code",
   "execution_count": 17,
   "metadata": {
    "collapsed": false
   },
   "outputs": [
    {
     "name": "stdout",
     "output_type": "stream",
     "text": [
      "                     West  East  Total\n",
      "Date                                  \n",
      "2012-10-03 00:00:00     4     9     13\n",
      "2012-10-03 01:00:00     4     6     10\n",
      "2012-10-03 02:00:00     1     1      2\n",
      "2012-10-03 03:00:00     2     3      5\n",
      "2012-10-03 04:00:00     6     1      7\n",
      "\n",
      "[5 rows x 3 columns]\n",
      "['West', 'East', 'Total']\n"
     ]
    }
   ],
   "source": []
  },
  {
   "cell_type": "code",
   "execution_count": null,
   "metadata": {
    "collapsed": true
   },
   "outputs": [],
   "source": []
  },
  {
   "cell_type": "code",
   "execution_count": 14,
   "metadata": {
    "collapsed": false
   },
   "outputs": [
    {
     "data": {
      "text/html": [
       "<div style=\"max-height:1000px;max-width:1500px;overflow:auto;\">\n",
       "<table border=\"1\" class=\"dataframe\">\n",
       "  <thead>\n",
       "    <tr style=\"text-align: right;\">\n",
       "      <th></th>\n",
       "      <th>West</th>\n",
       "      <th>East</th>\n",
       "      <th>Total</th>\n",
       "    </tr>\n",
       "    <tr>\n",
       "      <th>Date</th>\n",
       "      <th></th>\n",
       "      <th></th>\n",
       "      <th></th>\n",
       "    </tr>\n",
       "  </thead>\n",
       "  <tbody>\n",
       "    <tr>\n",
       "      <th>2017-05-31 19:00:00</th>\n",
       "      <td> 83</td>\n",
       "      <td> 129</td>\n",
       "      <td> 212</td>\n",
       "    </tr>\n",
       "    <tr>\n",
       "      <th>2017-05-31 20:00:00</th>\n",
       "      <td> 57</td>\n",
       "      <td>  83</td>\n",
       "      <td> 140</td>\n",
       "    </tr>\n",
       "    <tr>\n",
       "      <th>2017-05-31 21:00:00</th>\n",
       "      <td> 27</td>\n",
       "      <td>  40</td>\n",
       "      <td>  67</td>\n",
       "    </tr>\n",
       "    <tr>\n",
       "      <th>2017-05-31 22:00:00</th>\n",
       "      <td> 26</td>\n",
       "      <td>  23</td>\n",
       "      <td>  49</td>\n",
       "    </tr>\n",
       "    <tr>\n",
       "      <th>2017-05-31 23:00:00</th>\n",
       "      <td> 32</td>\n",
       "      <td>  16</td>\n",
       "      <td>  48</td>\n",
       "    </tr>\n",
       "  </tbody>\n",
       "</table>\n",
       "<p>5 rows × 3 columns</p>\n",
       "</div>"
      ],
      "text/plain": [
       "                     West  East  Total\n",
       "Date                                  \n",
       "2017-05-31 19:00:00    83   129    212\n",
       "2017-05-31 20:00:00    57    83    140\n",
       "2017-05-31 21:00:00    27    40     67\n",
       "2017-05-31 22:00:00    26    23     49\n",
       "2017-05-31 23:00:00    32    16     48\n",
       "\n",
       "[5 rows x 3 columns]"
      ]
     },
     "execution_count": 14,
     "metadata": {},
     "output_type": "execute_result"
    }
   ],
   "source": [
    "data.tail()"
   ]
  },
  {
   "cell_type": "code",
   "execution_count": null,
   "metadata": {
    "collapsed": false
   },
   "outputs": [],
   "source": []
  },
  {
   "cell_type": "code",
   "execution_count": null,
   "metadata": {
    "collapsed": true
   },
   "outputs": [],
   "source": []
  }
 ],
 "metadata": {
  "kernelspec": {
   "display_name": "Python 2",
   "language": "python",
   "name": "python2"
  },
  "language_info": {
   "codemirror_mode": {
    "name": "ipython",
    "version": 2
   },
   "file_extension": ".py",
   "mimetype": "text/x-python",
   "name": "python",
   "nbconvert_exporter": "python",
   "pygments_lexer": "ipython2",
   "version": "2.7.11"
  }
 },
 "nbformat": 4,
 "nbformat_minor": 0
}
